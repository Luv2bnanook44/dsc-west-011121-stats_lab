{
 "cells": [
  {
   "cell_type": "code",
   "execution_count": null,
   "metadata": {},
   "outputs": [],
   "source": [
    "import pandas as pd\n",
    "import matplotlib.pyplot as plt\n",
    "import numpy as np\n",
    "%matplotlib inline"
   ]
  },
  {
   "cell_type": "markdown",
   "metadata": {},
   "source": [
    "# pd.read_csv('case_study.csv')"
   ]
  },
  {
   "cell_type": "code",
   "execution_count": null,
   "metadata": {},
   "outputs": [],
   "source": [
    "#Load our dataframe account for the index columns\n",
    "df = pd.read_csv('case_study.csv', index_col=0)"
   ]
  },
  {
   "cell_type": "code",
   "execution_count": null,
   "metadata": {
    "scrolled": true
   },
   "outputs": [],
   "source": [
    "df"
   ]
  },
  {
   "cell_type": "code",
   "execution_count": null,
   "metadata": {},
   "outputs": [],
   "source": [
    "# Quickly check to see the size of our DF, both rows and columns\n",
    "df.shape"
   ]
  },
  {
   "cell_type": "code",
   "execution_count": null,
   "metadata": {},
   "outputs": [],
   "source": [
    "pd.set_option('display.max_columns', 358)"
   ]
  },
  {
   "cell_type": "markdown",
   "metadata": {},
   "source": [
    "## Subset your dataframe to only include the states in the tri-state area (NJ, CT, NY)"
   ]
  },
  {
   "cell_type": "code",
   "execution_count": null,
   "metadata": {},
   "outputs": [],
   "source": [
    " df[df['_STATE'].isin([9,34,36])].head()"
   ]
  },
  {
   "cell_type": "code",
   "execution_count": null,
   "metadata": {},
   "outputs": [],
   "source": [
    "# your code here\n",
    "df['_STATE'].value_counts()"
   ]
  },
  {
   "cell_type": "markdown",
   "metadata": {},
   "source": [
    "Now check to see how large our subset df."
   ]
  },
  {
   "cell_type": "code",
   "execution_count": null,
   "metadata": {},
   "outputs": [],
   "source": [
    "# your code here\n",
    "df.shape"
   ]
  },
  {
   "cell_type": "markdown",
   "metadata": {},
   "source": [
    "**PHYSHLTH** is the column we are interested in for this analysis, so let's start to investigate the column. Since we have a data cookbook, a.k.a. data dictionary) we want to start there before looking at the code. "
   ]
  },
  {
   "cell_type": "code",
   "execution_count": null,
   "metadata": {},
   "outputs": [],
   "source": [
    "df['PHYSHLTH'].describe()"
   ]
  },
  {
   "cell_type": "markdown",
   "metadata": {},
   "source": [
    "## 1. Handle the non-normal values\n",
    "\n",
    "As you can see from the data dictionary, there are a number of responses that are coded with values that could throw off our descriptive statistics.  Let's clean up by mapping the responses to a more appropriate value, and handling any missing values.  "
   ]
  },
  {
   "cell_type": "code",
   "execution_count": null,
   "metadata": {},
   "outputs": [],
   "source": [
    "#your code here\n",
    "\n",
    "zero_dict = {88:0, \n",
    "            77: np.nan,\n",
    "            99: np.nan}\n",
    "\n",
    "df['PHYSHLTH'] = df['PHYSHLTH'].replace(zero_dict)"
   ]
  },
  {
   "cell_type": "code",
   "execution_count": null,
   "metadata": {},
   "outputs": [],
   "source": [
    "df.shape"
   ]
  },
  {
   "cell_type": "code",
   "execution_count": null,
   "metadata": {},
   "outputs": [],
   "source": [
    "df.dropna(subset=['PHYSHLTH'], inplace=True)"
   ]
  },
  {
   "cell_type": "code",
   "execution_count": null,
   "metadata": {},
   "outputs": [],
   "source": [
    "df.shape"
   ]
  },
  {
   "cell_type": "markdown",
   "metadata": {},
   "source": [
    "## 2. Generate the descriptive statistics\n",
    "\n",
    "Now that our target variable is cleaned up lets calculate the descriptive statistics, generate a graph that quickly shows those statistics, and generate a gprah shows the histogram of the data."
   ]
  },
  {
   "cell_type": "code",
   "execution_count": null,
   "metadata": {},
   "outputs": [],
   "source": [
    "# descriptive statistics\n",
    "df['PHYSHLTH'].describe()"
   ]
  },
  {
   "cell_type": "code",
   "execution_count": null,
   "metadata": {},
   "outputs": [],
   "source": [
    "fig, ax = plt.subplots()\n",
    "\n",
    "# Add a boxplot for the \"Height\" column in the DataFrames\n",
    "ax.boxplot(df['PHYSHLTH'])\n",
    "\n",
    "# Add x-axis tick labels:\n",
    "ax.set_xticklabels('PHYSHLTH')\n",
    "\n",
    "# Add a y-axis label\n",
    "ax.set_ylabel(\"Days Sick\")\n",
    "\n",
    "plt.show()\n"
   ]
  },
  {
   "cell_type": "code",
   "execution_count": null,
   "metadata": {},
   "outputs": [],
   "source": [
    "# graphic showing the histogram of data\n",
    "fig, ax = plt.subplots()\n",
    "# Plot a histogram of \"Weight\" for mens_rowing\n",
    "ax.hist(df['PHYSHLTH'], bins=30)\n",
    "\n",
    "ax.set_xlabel('Sick Days')\n",
    "ax.set_ylabel('# of observations')\n",
    "ax.set_title(\"Distribution of People's Sick Days\")\n",
    "\n",
    "plt.show()"
   ]
  },
  {
   "cell_type": "markdown",
   "metadata": {},
   "source": [
    "## 3. Generate a graphic that compares the average number of sick days for each state. "
   ]
  },
  {
   "cell_type": "code",
   "execution_count": null,
   "metadata": {},
   "outputs": [],
   "source": [
    "# code to calculate the average number of sick days by state\n",
    "\n",
    "df.groupby('_STATE')['PHYSHLTH'].mean()"
   ]
  },
  {
   "cell_type": "code",
   "execution_count": null,
   "metadata": {},
   "outputs": [],
   "source": [
    "means = df.groupby('_STATE')['PHYSHLTH'].mean().values\n",
    "states = ['Conn', 'NJ', 'NY']"
   ]
  },
  {
   "cell_type": "code",
   "execution_count": null,
   "metadata": {},
   "outputs": [],
   "source": [
    "# code to graph those averages using matplotlib\n",
    "fig, ax = plt.subplots()\n",
    "\n",
    "# Plot a bar-chart\n",
    "ax.bar(states, means)\n",
    "\n",
    "# Set title and lables\n",
    "ax.set_xticklabels(['Conn', 'NJ', 'NY'], rotation=90)\n",
    "ax.set_ylabel(\"AVG Days Sick\")\n",
    "ax.set_title('Comparing Health by State')\n",
    "\n",
    "plt.show()"
   ]
  },
  {
   "cell_type": "code",
   "execution_count": null,
   "metadata": {},
   "outputs": [],
   "source": [
    "# graphic showing the histogram of data\n",
    "\n",
    "fig, ax = plt.subplots()\n",
    "# Plot a histogram of \"Weight\" for mens_rowing\n",
    "ax.hist(df[df['_STATE']==9]['PHYSHLTH'], bins=15, density=True, histtype='step', label='Conn')\n",
    "ax.hist(df[df['_STATE']==34]['PHYSHLTH'], bins=15, density=True,histtype='step', label='NJ')\n",
    "ax.hist(df[df['_STATE']==36]['PHYSHLTH'], bins=15, density=True,histtype='step', label='NY')\n",
    "\n",
    "# Set labels and title\n",
    "ax.set_xlabel('Sick Days')\n",
    "ax.set_ylabel('% of observations')\n",
    "ax.set_title(\"Distribution of People's Sick Days\")\n",
    "ax.legend()\n",
    "\n",
    "plt.show()"
   ]
  },
  {
   "cell_type": "markdown",
   "metadata": {},
   "source": [
    "## 4. Turn the number of sick days into a classification of of chronically sick people.  \n",
    "\n",
    "Chronically sick people account for a significant proportion of the costs for health insurers. If we can identify what leads people to be chronically sick, we can address them with specific treatments.\n",
    "\n"
   ]
  },
  {
   "cell_type": "code",
   "execution_count": null,
   "metadata": {},
   "outputs": [],
   "source": [
    "def is_Chronic(df):\n",
    "    if df['PHYSHLTH'] > 10:\n",
    "        return 1\n",
    "    else:\n",
    "        return 0\n",
    "df['CHRON_SICK'] = df.apply(is_Chronic, axis=1)"
   ]
  },
  {
   "cell_type": "code",
   "execution_count": null,
   "metadata": {},
   "outputs": [],
   "source": [
    "# code to create new colum for chronically sick\n",
    "\n",
    "df['CHRONIC'] = np.where(df['PHYSHLTH']>=15, 1,0)"
   ]
  },
  {
   "cell_type": "markdown",
   "metadata": {},
   "source": [
    "## 5. Create a graphic that compares the percentage of people labeled as 'sick' in each state. "
   ]
  },
  {
   "cell_type": "code",
   "execution_count": null,
   "metadata": {},
   "outputs": [],
   "source": [
    "df.groupby('_STATE')['CHRONIC'].mean()"
   ]
  },
  {
   "cell_type": "code",
   "execution_count": null,
   "metadata": {},
   "outputs": [],
   "source": [
    "# code to calculate averages per state\n",
    "chronic_means = df.groupby('_STATE')['CHRONIC'].mean().values\n",
    "df.groupby('_STATE')['CHRONIC'].mean()"
   ]
  },
  {
   "cell_type": "code",
   "execution_count": null,
   "metadata": {},
   "outputs": [],
   "source": [
    "# create graphic to compare chronically sick by state\n",
    "fig, ax = plt.subplots()\n",
    "\n",
    "# Plot a bar-chart of gold medals as a function of country\n",
    "ax.bar(states, chronic_means)\n",
    "\n",
    "# Set labels and title\n",
    "ax.set_xticklabels(['Conn', 'NJ', 'NY'], rotation=90)\n",
    "ax.set_ylabel(\"Percentage of Chronically Ill\")\n",
    "ax.set_title('Comparing Health by State')\n",
    "\n",
    "plt.show()"
   ]
  },
  {
   "cell_type": "markdown",
   "metadata": {},
   "source": [
    "## 6. Independent Variables (categorical)\n",
    "\n",
    "Let's take the column `SMOKDAY2` and start to prepare it so that we can see how it is possibly correlated to `PHYSHLTH`.\n",
    "\n",
    "1. Clean up the values.\n",
    "2. Calculate the descriptive statistics of the variable.\n",
    "3. Generate a histogram for the variable.\n",
    "4. Generate graphics that show how the responses to this variable might differ by state.\n",
    "5. Generate a graphic that compares the physical health of the different groups of 'smokers'."
   ]
  },
  {
   "cell_type": "code",
   "execution_count": null,
   "metadata": {},
   "outputs": [],
   "source": [
    "df.shape"
   ]
  },
  {
   "cell_type": "code",
   "execution_count": null,
   "metadata": {},
   "outputs": [],
   "source": [
    "df['SMOKDAY2'].value_counts()"
   ]
  },
  {
   "cell_type": "code",
   "execution_count": null,
   "metadata": {},
   "outputs": [],
   "source": [
    "df['SMOKDAY2'].value_counts().sum()"
   ]
  },
  {
   "cell_type": "code",
   "execution_count": null,
   "metadata": {},
   "outputs": [],
   "source": [
    "df['smoking'] = np.where(df['SMOKE100']==2, 3, df['SMOKDAY2'])\n",
    "\n",
    "\n"
   ]
  },
  {
   "cell_type": "code",
   "execution_count": null,
   "metadata": {},
   "outputs": [],
   "source": [
    "df['smoking'].value_counts().sum()"
   ]
  },
  {
   "cell_type": "code",
   "execution_count": null,
   "metadata": {},
   "outputs": [],
   "source": [
    "df['smoking'] = np.where(df['SMOKE100']==7, 7, df['smoking'])\n",
    "df['smoking'] = np.where(df['SMOKE100']==9, 9, df['smoking'])"
   ]
  },
  {
   "cell_type": "code",
   "execution_count": null,
   "metadata": {},
   "outputs": [],
   "source": [
    "df['smoking'].count()"
   ]
  },
  {
   "cell_type": "code",
   "execution_count": null,
   "metadata": {},
   "outputs": [],
   "source": [
    "df['smoking'].describe()"
   ]
  },
  {
   "cell_type": "code",
   "execution_count": null,
   "metadata": {},
   "outputs": [],
   "source": [
    "smoking_avg = df['smoking'].value_counts()/df['smoking'].count()\n",
    "smoking_avg"
   ]
  },
  {
   "cell_type": "code",
   "execution_count": null,
   "metadata": {},
   "outputs": [],
   "source": [
    "smoking_avg.index"
   ]
  },
  {
   "cell_type": "code",
   "execution_count": null,
   "metadata": {},
   "outputs": [],
   "source": [
    "# code to graph those averages using matplotlib\n",
    "fig, ax = plt.subplots()\n",
    "\n",
    "# Plot a bar-chart\n",
    "ax.bar(['Non-Smoker', 'Everyday', 'Some Days',\"Don't Know\", \"Refused\"], smoking_avg)\n",
    "\n",
    "# Set title and lables\n",
    "ax.set_xticklabels(['Non-Smoker', 'Everyday', 'Some Days',\"Don't Know\", \"Refused\"], rotation=90)\n",
    "ax.set_ylabel(\"Percent of survey\")\n",
    "ax.set_title('Smoking Status')\n",
    "\n",
    "plt.show()"
   ]
  },
  {
   "cell_type": "code",
   "execution_count": null,
   "metadata": {},
   "outputs": [],
   "source": [
    "df.groupby(['_STATE', 'smoking'])['smoking'].count()"
   ]
  },
  {
   "cell_type": "code",
   "execution_count": null,
   "metadata": {},
   "outputs": [],
   "source": [
    "df.groupby(['_STATE', 'smoking']).agg({'smoking': 'count'})"
   ]
  },
  {
   "cell_type": "code",
   "execution_count": null,
   "metadata": {},
   "outputs": [],
   "source": [
    "state_smoking = df.groupby(['_STATE', 'smoking']).agg({'smoking': 'count'})\n",
    "# Change: groupby state_office and divide by sum\n",
    "state_pcts = state_smoking.groupby(level=0).apply(lambda x:\n",
    "                                                 100 * x / float(x.sum()))"
   ]
  },
  {
   "cell_type": "code",
   "execution_count": null,
   "metadata": {},
   "outputs": [],
   "source": [
    "state_pcts"
   ]
  },
  {
   "cell_type": "code",
   "execution_count": null,
   "metadata": {},
   "outputs": [],
   "source": [
    "state_pcts.unstack()"
   ]
  },
  {
   "cell_type": "code",
   "execution_count": null,
   "metadata": {},
   "outputs": [],
   "source": [
    "state_pcts.unstack().plot(kind='bar', stacked=True)"
   ]
  },
  {
   "cell_type": "code",
   "execution_count": null,
   "metadata": {},
   "outputs": [],
   "source": [
    "#your code here\n",
    "\n",
    "zero_dict = {3:'non', \n",
    "            2: 'some',\n",
    "            1: 'every',\n",
    "            7: 'unknown',\n",
    "            9: 'unknown'}\n",
    "\n",
    "df['smoking_cat'] = df['smoking'].replace(zero_dict)"
   ]
  },
  {
   "cell_type": "code",
   "execution_count": null,
   "metadata": {},
   "outputs": [],
   "source": [
    "df['smoking_cat']"
   ]
  },
  {
   "cell_type": "code",
   "execution_count": null,
   "metadata": {},
   "outputs": [],
   "source": [
    "state_smoking_cat = df.groupby(['_STATE', 'smoking_cat']).agg({'smoking': 'count'})\n",
    "# Change: groupby state_office and divide by sum\n",
    "state_pcts_cat = state_smoking_cat.groupby(level=0).apply(lambda x:\n",
    "                                                 100 * x / float(x.sum()))\n",
    "state_pcts_cat.index.set_levels(['Conn', 'NJ', 'NY'], level=0, inplace=True)\n",
    "state_pcts_cat"
   ]
  },
  {
   "cell_type": "code",
   "execution_count": null,
   "metadata": {},
   "outputs": [],
   "source": [
    "ax = state_pcts_cat.unstack().plot(kind='bar', stacked=True)\n",
    "ax.legend(bbox_to_anchor=(1.5, 1.0))\n",
    "plt.show()"
   ]
  },
  {
   "cell_type": "code",
   "execution_count": null,
   "metadata": {},
   "outputs": [],
   "source": [
    "cat_avg = df.groupby('smoking_cat')['PHYSHLTH'].mean()\n",
    "cat_std = df.groupby('smoking_cat')['PHYSHLTH'].std()\n",
    "cat_avg"
   ]
  },
  {
   "cell_type": "code",
   "execution_count": null,
   "metadata": {},
   "outputs": [],
   "source": [
    "# code to graph those averages using matplotlib\n",
    "fig, ax = plt.subplots()\n",
    "\n",
    "# Plot a bar-chart\n",
    "ax.bar(['Every', 'Non', 'Some',\"unkonw\"], cat_avg)\n",
    "\n",
    "# Set title and lables\n",
    "ax.set_xticklabels(['Everyday', 'Non-Smoker',  'Some Days',\"Don't Know\", \"Refused\"], rotation=90)\n",
    "ax.set_ylabel(\"Days Sick\")\n",
    "ax.set_title('Days Sick by Smoking Status')\n",
    "\n",
    "plt.show()"
   ]
  },
  {
   "cell_type": "markdown",
   "metadata": {},
   "source": [
    "## Justin's way with the `normalize =true`"
   ]
  },
  {
   "cell_type": "code",
   "execution_count": null,
   "metadata": {},
   "outputs": [],
   "source": [
    "df._STATE.replace([9,34,36],['Conn','NJ','NY'],inplace=True)\n",
    "df.SMOKDAY2.replace([1,2,3,7,9],['Every Day','Some Days','Not at All','Not Sure','Refused'],inplace=True)\n",
    "\n",
    "x = df.groupby('_STATE')['SMOKDAY2'].value_counts(normalize=True).unstack() * 100\n",
    "fig,ax = plt.subplots()\n",
    "x.plot.bar(stacked=True,ax=ax,)\n",
    "ax.legend(bbox_to_anchor=(1.1, 1.05))"
   ]
  },
  {
   "cell_type": "markdown",
   "metadata": {},
   "source": [
    "## 7. Independent Variables (continuous):\n",
    "\n",
    "Now let's look at a continuous variable (ALCDAY5) and see how that might impact a person's health. \n",
    "\n",
    "1. Clean up the values.\n",
    "2. Calculate the descriptive statistics of the variable.\n",
    "3. Generate a histogram for the variable.\n",
    "4. Generate graphics that show how the responses to this variable might differ by state.\n",
    "5. Calculate the correlation coefficient between `PHYSHLTH` and `ALCDAY5`.\n",
    "5. Generate a graphic that shows the possible relationship between `PHYSHLTH` and `ALCDAY5`."
   ]
  },
  {
   "cell_type": "code",
   "execution_count": null,
   "metadata": {},
   "outputs": [],
   "source": [
    "alc_dict = {888:0, \n",
    "            777: np.nan,\n",
    "            999: np.nan\n",
    "            }\n",
    "\n",
    "df['alcohol'] = df['ALCDAY5'].replace(alc_dict)\n",
    "\n"
   ]
  },
  {
   "cell_type": "code",
   "execution_count": null,
   "metadata": {},
   "outputs": [],
   "source": [
    "df['alcohol']"
   ]
  },
  {
   "cell_type": "code",
   "execution_count": null,
   "metadata": {},
   "outputs": [],
   "source": [
    "# create a function called times100\n",
    "def calc_monthly(x):\n",
    "    if x>200:\n",
    "        return x-200\n",
    "    elif x>100:\n",
    "        return min(int((x-100)*4.34524), 30)\n",
    "    else:\n",
    "        return x"
   ]
  },
  {
   "cell_type": "code",
   "execution_count": null,
   "metadata": {},
   "outputs": [],
   "source": [
    "df['alcohol']= df['alcohol'].apply(calc_monthly)"
   ]
  },
  {
   "cell_type": "code",
   "execution_count": null,
   "metadata": {},
   "outputs": [],
   "source": [
    "df['alcohol'].describe()"
   ]
  },
  {
   "cell_type": "code",
   "execution_count": null,
   "metadata": {},
   "outputs": [],
   "source": [
    "# graphic showing the histogram of data\n",
    "fig, ax = plt.subplots()\n",
    "# Plot a histogram of \"Weight\" for mens_rowing\n",
    "ax.hist(df['alcohol'], bins=30)\n",
    "\n",
    "ax.set_xlabel('Days Drinking')\n",
    "ax.set_ylabel('# of observations')\n",
    "ax.set_title(\"Distribution of Days Drinking\")\n",
    "\n",
    "plt.show()"
   ]
  },
  {
   "cell_type": "code",
   "execution_count": null,
   "metadata": {},
   "outputs": [],
   "source": [
    "# code to calculate averages per state\n",
    "alcohol_state = df.groupby('_STATE')['alcohol'].mean().values\n",
    "df.groupby('_STATE')['alcohol'].mean()"
   ]
  },
  {
   "cell_type": "code",
   "execution_count": null,
   "metadata": {},
   "outputs": [],
   "source": [
    "fig, ax = plt.subplots()\n",
    "\n",
    "# Add data: \"height\", \"weight\" as x-y, index as color\n",
    "ax.scatter(df[\"alcohol\"], df[\"PHYSHLTH\"])\n",
    "\n",
    "ax.set_xlabel(\"Drinking Days\")\n",
    "ax.set_ylabel(\"Sick Days\")\n",
    "ax.set_title('Relationship between Drinking and Health')\n",
    "\n",
    "\n",
    "plt.show()"
   ]
  },
  {
   "cell_type": "code",
   "execution_count": null,
   "metadata": {},
   "outputs": [],
   "source": [
    "df[['PHYSHLTH', 'alcohol']].corr()['PHYSHLTH']"
   ]
  },
  {
   "cell_type": "code",
   "execution_count": null,
   "metadata": {},
   "outputs": [],
   "source": [
    "from src.student_caller import one_random_student\n",
    "from src.student_list import student_first_names"
   ]
  },
  {
   "cell_type": "markdown",
   "metadata": {},
   "source": [
    "## 8. Statistical Inference\n",
    "\n",
    "\n",
    "- Create a 95% confidence interval for the population mean of physically ill days."
   ]
  },
  {
   "cell_type": "code",
   "execution_count": null,
   "metadata": {},
   "outputs": [],
   "source": [
    "one_random_student(student_first_names)"
   ]
  },
  {
   "cell_type": "code",
   "execution_count": null,
   "metadata": {},
   "outputs": [],
   "source": [
    "# Calculate the mean of PHYSHLTH\n",
    "\n",
    "# Use stats.norm.ppf to calculate the z-stat associated with the 95%\n",
    "\n",
    "# Calculate the standard error\n",
    "\n",
    "# Calculate the right and left ends of the confidence interval"
   ]
  },
  {
   "cell_type": "markdown",
   "metadata": {},
   "source": [
    "-  Create a 95% confidence interval for the true proportion of chronically sick people."
   ]
  },
  {
   "cell_type": "code",
   "execution_count": null,
   "metadata": {},
   "outputs": [],
   "source": [
    "# link to lecture notebook with the equation for confidence interval of a binary response\n",
    "# https://github.com/flatiron-school/ds-confidence_intervals/blob/main/confidence_intervals.ipynb"
   ]
  },
  {
   "cell_type": "markdown",
   "metadata": {},
   "source": [
    "$Standard Error = \\sqrt{\\frac{\\hat{p}(1 - \\hat{p})}{n}}$ <br/>\n",
    "$\\hat{p} = Probability\\ of\\ chronically\\ sick$"
   ]
  },
  {
   "cell_type": "code",
   "execution_count": null,
   "metadata": {},
   "outputs": [],
   "source": [
    "# Calculate p_hat\n",
    "\n",
    "# Calculate the Standard Error\n",
    "\n",
    "# Calculate the z-score associated with 95% confidence\n",
    "\n",
    "# Calculate left and right parts of the confidence interval"
   ]
  },
  {
   "cell_type": "markdown",
   "metadata": {},
   "source": [
    "## 9. Hypothesis Tests \n",
    "\n",
    "**For the follwing questions that require hypothesis tests, you must complete the following:**\n",
    "\n",
    "*1. Write down the null and alternative hypothesis you are testing.* \n",
    "\n",
    "\n",
    "*2. Select the appropriate test and calculate the test statistic and P-values.*\n",
    "\n",
    "*3. Determine the critical value for the 95% confidence interval.*\n",
    "\n",
    "*4. Evaluate the test statistic agains the critical value.*\n",
    "\n",
    "*5. Determine if you reject or fail to reject the null hypothesis and write a sentence explaining the results of your hypothesis test.*  "
   ]
  },
  {
   "cell_type": "markdown",
   "metadata": {},
   "source": [
    "### The following questions are regarding the `PHYSHLTH` variable. \n",
    "- What is the probability of getting a value greater than the sample mean of days physically ill, if the population mean is 4?"
   ]
  },
  {
   "cell_type": "code",
   "execution_count": null,
   "metadata": {},
   "outputs": [],
   "source": [
    "# Determine what test statistic to calculate\n",
    "\n",
    "# Calculate the difference in means (the numerator)\n",
    "\n",
    "# Calculate the standard error (the denominator)\n",
    "\n",
    "# Feed the sample statistic into the appropriate stats method to return a p-value\n"
   ]
  },
  {
   "cell_type": "code",
   "execution_count": null,
   "metadata": {},
   "outputs": [],
   "source": [
    "one_random_student(student_first_names)"
   ]
  },
  {
   "cell_type": "markdown",
   "metadata": {},
   "source": [
    "- Is there a statistically significant difference between men and women in the number of days a person feels phsyically ill?"
   ]
  },
  {
   "cell_type": "code",
   "execution_count": null,
   "metadata": {},
   "outputs": [],
   "source": [
    "# Null Hypothesis\n",
    "\n",
    "# Alternative Hypothesis\n",
    "\n",
    "# Select the appropriate test\n",
    "\n",
    "# Select an alpha level\n",
    "\n",
    "# Subset the data to isolate the two groups, and isolate the feature we want to inspect\n",
    "\n",
    "# Feed the data into the appropriate scipy.stats test\n",
    "\n",
    "# Determine whether to accept or reject the null hypothesis\n",
    "\n"
   ]
  },
  {
   "cell_type": "code",
   "execution_count": null,
   "metadata": {},
   "outputs": [],
   "source": [
    "one_random_student(student_first_names)"
   ]
  },
  {
   "cell_type": "markdown",
   "metadata": {},
   "source": [
    "- Perform a statistical test to determine if there statistically significant difference is physical health of people from the three states. "
   ]
  },
  {
   "cell_type": "code",
   "execution_count": null,
   "metadata": {},
   "outputs": [],
   "source": [
    "# What is the null hypothesis\n",
    "\n",
    "# What is the alternative hypothesis\n",
    "\n",
    "# Select the appropriate test\n",
    "\n",
    "# Select an alpha level\n",
    "\n",
    "# Subset the data\n",
    "\n",
    "# Feed in the arrays to the appropriate stats test.\n",
    "\n",
    "# Decide whether to accept or reject the null hypothesis"
   ]
  },
  {
   "cell_type": "code",
   "execution_count": null,
   "metadata": {},
   "outputs": [],
   "source": [
    "one_random_student(student_first_names)"
   ]
  },
  {
   "cell_type": "markdown",
   "metadata": {},
   "source": [
    "### The following questions are regarding the  `CHRONIC` variable.\n",
    "- What is the probability of drawing a value larger than this sample proportion if the chronically true population proportion is 0.10?"
   ]
  },
  {
   "cell_type": "code",
   "execution_count": null,
   "metadata": {},
   "outputs": [],
   "source": [
    "# Check here for how to calculate a test statistic for a proportion\n",
    "# https://online.stat.psu.edu/stat800/lesson/5/5.2\n",
    "\n",
    "# Standard Error = sqrt[ P * ( 1 - P ) / n ]\n",
    "# Calculate the standard error\n",
    "\n",
    "# z = (p_hat - P) / Standard Error\n",
    "\n",
    "# Calculate the z-score of the sample using the appropriate stats package.\n",
    "\n"
   ]
  },
  {
   "cell_type": "code",
   "execution_count": null,
   "metadata": {},
   "outputs": [],
   "source": [
    "one_random_student(student_first_names)"
   ]
  },
  {
   "cell_type": "markdown",
   "metadata": {},
   "source": [
    "- Is there a statistically significant difference in the percentage of men and women who are chronically sick?"
   ]
  },
  {
   "cell_type": "code",
   "execution_count": null,
   "metadata": {},
   "outputs": [],
   "source": [
    "# Null Hypothesis\n",
    "\n",
    "# Alternative Hypothesis\n",
    "\n",
    "# Select the appropriate test\n",
    "# https://online.stat.psu.edu/stat800/lesson/5/5.5\n",
    "\n",
    "# Select an alpha level\n",
    "\n",
    "# Subset the data to isolate the two groups, and isolate the feature we want to inspect\n",
    "\n",
    "# Feed the data into the appropriate scipy.stats test\n",
    "# look into from statsmodels.stats.proportion import proportions_ztest\n",
    "\n",
    "# Determine whether to accept or reject the null hypothesis\n"
   ]
  },
  {
   "cell_type": "code",
   "execution_count": null,
   "metadata": {},
   "outputs": [],
   "source": [
    "one_random_student(student_first_names)"
   ]
  },
  {
   "cell_type": "markdown",
   "metadata": {},
   "source": [
    "- Perform a statistical test to determine if there statistically significant difference is physical health of people from the three states."
   ]
  },
  {
   "cell_type": "code",
   "execution_count": null,
   "metadata": {},
   "outputs": [],
   "source": [
    "# Null Hypothesis\n",
    "\n",
    "# Alternative Hypothesis\n",
    "\n",
    "# Select the appropriate test\n",
    "\n",
    "# Select an alpha level\n",
    "\n",
    "# Subset the data to isolate the two groups, and isolate the feature we want to inspect\n",
    "\n",
    "# Create a contingency table\n",
    "# See this notebook from lessons: https://github.com/flatiron-school/ds-anova/blob/main/chi_squared_testing.ipynb\n",
    "\n",
    "# Feed the contingency table into the stats.chi2_contingency\n",
    "# Determine whether to accept or reject the null hypothesis"
   ]
  },
  {
   "cell_type": "markdown",
   "metadata": {},
   "source": [
    "# 10. Independent Investigation\n",
    "\n",
    "Now that you have invesitgated physical health and chronic sickness and their relationships with states and gender, you will conduct a similar investigation with variables of your choosing. \n",
    "\n",
    "Select a continuous dependent varaible and a binary dependent variable that you would like to investigate. Then select a categorical independent variable with at least 3 groups and for which you will test to see if the response to the independent variable affects outcomes of the dependent variable.\n",
    "\n",
    "For your continuous dependent variable perform the following:\n",
    "  - Determine the sample mean and sample standard deviation\n",
    "  - Create a confidence interval for a population mean.\n",
    "  - Perform a two-sample test of means for gender.\n",
    "  - Perform a one-way ANOVA using your categorical independent variable.\n",
    "\n",
    "Select/create a binary variable from the survey questions as you dependent variable and perform the following:\n",
    "  - Create a confidence interval for a population proportion.\n",
    "  - Perform a two proportions z-test using gender.\n",
    "  - Perform a Chi-Square test using your categorical independent variable."
   ]
  },
  {
   "cell_type": "code",
   "execution_count": null,
   "metadata": {},
   "outputs": [],
   "source": []
  }
 ],
 "metadata": {
  "kernelspec": {
   "display_name": "Python 3",
   "language": "python",
   "name": "python3"
  },
  "language_info": {
   "codemirror_mode": {
    "name": "ipython",
    "version": 3
   },
   "file_extension": ".py",
   "mimetype": "text/x-python",
   "name": "python",
   "nbconvert_exporter": "python",
   "pygments_lexer": "ipython3",
   "version": "3.7.3"
  }
 },
 "nbformat": 4,
 "nbformat_minor": 4
}
